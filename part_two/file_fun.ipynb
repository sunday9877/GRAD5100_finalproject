{
 "cells": [
  {
   "cell_type": "code",
   "execution_count": 1,
   "metadata": {},
   "outputs": [
    {
     "name": "stdout",
     "output_type": "stream",
     "text": [
      "YLTRR.csv\n"
     ]
    }
   ],
   "source": [
    "###Q1\n",
    "def string_extractor(code_string):\n",
    "    # Split the input string by underscores\n",
    "    parts = code_string.split('_')\n",
    "    \n",
    "    if len(parts) == 3:\n",
    "        code = parts[1]  # Extract the alphabetic code\n",
    "        extension = parts[2]  # Extract the extension\n",
    "        \n",
    "        return f\"{code}.{extension}\"\n",
    "\n",
    "    # Return None if the input format doesn't match\n",
    "    return None\n",
    "\n",
    "# check if it works\n",
    "code_string = \"35538_YLTRR_csv\"\n",
    "result = string_extractor(code_string)"
   ]
  },
  {
   "cell_type": "code",
   "execution_count": 2,
   "metadata": {},
   "outputs": [],
   "source": [
    "###Q2\n",
    "import os\n",
    "\n",
    "# Create a directory named 'expanded' check if it exists\n",
    "dir = 'expanded'\n",
    "if not os.path.exists(dir):\n",
    "    os.makedirs(dir)\n",
    "\n",
    "# apply to code.txt\n",
    "with open('codes.txt', 'r') as file:\n",
    "    lines = file.readlines()\n",
    "    for line in lines:\n",
    "        line = line.strip()  # Remove newline characters\n",
    "        result = string_extractor(line)\n",
    "        if result:\n",
    "            code, extension = result.split('.')\n",
    "            file_name = os.path.join(dir, f\"{code}.{extension}\")\n",
    "            with open(file_name, 'w') as output_file:\n",
    "                output_file.write(line.split('_')[0]) # write the num into the file\n"
   ]
  },
  {
   "cell_type": "code",
   "execution_count": null,
   "metadata": {},
   "outputs": [],
   "source": []
  }
 ],
 "metadata": {
  "kernelspec": {
   "display_name": "base",
   "language": "python",
   "name": "python3"
  },
  "language_info": {
   "codemirror_mode": {
    "name": "ipython",
    "version": 3
   },
   "file_extension": ".py",
   "mimetype": "text/x-python",
   "name": "python",
   "nbconvert_exporter": "python",
   "pygments_lexer": "ipython3",
   "version": "3.9.13"
  }
 },
 "nbformat": 4,
 "nbformat_minor": 2
}
